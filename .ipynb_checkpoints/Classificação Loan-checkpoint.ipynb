{
 "cells": [
  {
   "cell_type": "markdown",
   "metadata": {},
   "source": [
    "# Problem Statement"
   ]
  },
  {
   "cell_type": "markdown",
   "metadata": {},
   "source": [
    "In this project, we are going to classify an individual whether he/she can get the loan amount based on his/her Income, Education, Working Experience, Loan taken previously, and many more factors."
   ]
  },
  {
   "cell_type": "markdown",
   "metadata": {},
   "source": [
    "# Import Libraries"
   ]
  },
  {
   "cell_type": "code",
   "execution_count": 2,
   "metadata": {},
   "outputs": [
    {
     "ename": "ModuleNotFoundError",
     "evalue": "No module named 'gradio'",
     "output_type": "error",
     "traceback": [
      "\u001b[1;31m---------------------------------------------------------------------------\u001b[0m",
      "\u001b[1;31mModuleNotFoundError\u001b[0m                       Traceback (most recent call last)",
      "Cell \u001b[1;32mIn[2], line 4\u001b[0m\n\u001b[0;32m      2\u001b[0m \u001b[38;5;28;01mimport\u001b[39;00m \u001b[38;5;21;01mseaborn\u001b[39;00m \u001b[38;5;28;01mas\u001b[39;00m \u001b[38;5;21;01msns\u001b[39;00m\n\u001b[0;32m      3\u001b[0m \u001b[38;5;28;01mimport\u001b[39;00m \u001b[38;5;21;01mmatplotlib\u001b[39;00m\u001b[38;5;21;01m.\u001b[39;00m\u001b[38;5;21;01mpyplot\u001b[39;00m \u001b[38;5;28;01mas\u001b[39;00m \u001b[38;5;21;01mplt\u001b[39;00m\n\u001b[1;32m----> 4\u001b[0m \u001b[38;5;28;01mimport\u001b[39;00m \u001b[38;5;21;01mgradio\u001b[39;00m \u001b[38;5;28;01mas\u001b[39;00m \u001b[38;5;21;01mgr\u001b[39;00m\n\u001b[0;32m      5\u001b[0m \u001b[38;5;28;01mimport\u001b[39;00m \u001b[38;5;21;01mnumpy\u001b[39;00m \u001b[38;5;28;01mas\u001b[39;00m \u001b[38;5;21;01mnp\u001b[39;00m\n\u001b[0;32m      7\u001b[0m \u001b[38;5;28;01mfrom\u001b[39;00m \u001b[38;5;21;01msklearn\u001b[39;00m\u001b[38;5;21;01m.\u001b[39;00m\u001b[38;5;21;01mpreprocessing\u001b[39;00m \u001b[38;5;28;01mimport\u001b[39;00m LabelEncoder\n",
      "\u001b[1;31mModuleNotFoundError\u001b[0m: No module named 'gradio'"
     ]
    }
   ],
   "source": [
    "import pandas as pd\n",
    "import seaborn as sns\n",
    "import matplotlib.pyplot as plt\n",
    "import gradio as gr\n",
    "import numpy as np\n",
    "\n",
    "from sklearn.preprocessing import LabelEncoder\n",
    "from sklearn.model_selection import train_test_split\n",
    "from sklearn.linear_model import LogisticRegression\n",
    "from sklearn.metrics import accuracy_score, recall_score, precision_score, f1_score, mean_squared_error, confusion_matrix\n",
    "from sklearn.metrics import roc_curve, roc_auc_score\n",
    "\n",
    "import warnings\n",
    "warnings.filterwarnings('ignore')\n",
    "pd.options.display.float_format = \"{:,.2f}\".format"
   ]
  },
  {
   "cell_type": "markdown",
   "metadata": {},
   "source": [
    "# Read and View dataset"
   ]
  },
  {
   "cell_type": "code",
   "execution_count": null,
   "metadata": {},
   "outputs": [],
   "source": [
    "# Read dataset\n",
    "df = pd.read_csv('loan_data.csv')\n",
    "\n",
    "# View dataset\n",
    "df.head()"
   ]
  },
  {
   "cell_type": "code",
   "execution_count": null,
   "metadata": {},
   "outputs": [],
   "source": [
    "# View shape dataset\n",
    "df.shape"
   ]
  },
  {
   "cell_type": "code",
   "execution_count": null,
   "metadata": {},
   "outputs": [],
   "source": [
    "# Info about daatset\n",
    "df.info()"
   ]
  },
  {
   "cell_type": "markdown",
   "metadata": {},
   "source": [
    "# Verify and Clean Null Values"
   ]
  },
  {
   "cell_type": "code",
   "execution_count": null,
   "metadata": {},
   "outputs": [],
   "source": [
    "# Verify null values\n",
    "df.isna().sum()"
   ]
  },
  {
   "cell_type": "code",
   "execution_count": null,
   "metadata": {},
   "outputs": [],
   "source": [
    "# Quantity each gender \n",
    "df.Gender.value_counts() # More 76% are Male"
   ]
  },
  {
   "cell_type": "code",
   "execution_count": null,
   "metadata": {},
   "outputs": [],
   "source": [
    "# Exchange null values for Male\n",
    "df['Gender'] = df.Gender.fillna('Male')"
   ]
  },
  {
   "cell_type": "code",
   "execution_count": null,
   "metadata": {},
   "outputs": [],
   "source": [
    "# Count dependets column\n",
    "df.Dependents.value_counts() # More 60% are classify how zero dependets"
   ]
  },
  {
   "cell_type": "code",
   "execution_count": null,
   "metadata": {},
   "outputs": [],
   "source": [
    "# Exchange null values for mode dependets column\n",
    "df['Dependents'] = df.Dependents.fillna(df.Dependents.mode()[0])"
   ]
  },
  {
   "cell_type": "code",
   "execution_count": null,
   "metadata": {},
   "outputs": [],
   "source": [
    "# Count self employed column\n",
    "df.Self_Employed.value_counts() "
   ]
  },
  {
   "cell_type": "code",
   "execution_count": null,
   "metadata": {},
   "outputs": [],
   "source": [
    "# Exchange null values for 'No'\n",
    "df['Self_Employed'] = df.Self_Employed.fillna('No')"
   ]
  },
  {
   "cell_type": "code",
   "execution_count": null,
   "metadata": {},
   "outputs": [],
   "source": [
    "# Count loan amont term column\n",
    "df.Loan_Amount_Term.value_counts()"
   ]
  },
  {
   "cell_type": "code",
   "execution_count": null,
   "metadata": {},
   "outputs": [],
   "source": [
    "# Exchange null values for mode loan amount term column\n",
    "df['Loan_Amount_Term'] = df.Loan_Amount_Term.fillna(df.Loan_Amount_Term.mode()[0])"
   ]
  },
  {
   "cell_type": "code",
   "execution_count": null,
   "metadata": {},
   "outputs": [],
   "source": [
    "# Count credit history column\n",
    "df.Credit_History.value_counts() # More 75% has a credit history"
   ]
  },
  {
   "cell_type": "code",
   "execution_count": null,
   "metadata": {},
   "outputs": [],
   "source": [
    "# Exchange null values for mode credit history column\n",
    "df['Credit_History'] = df.Credit_History.fillna(df.Credit_History.mode()[0])"
   ]
  },
  {
   "cell_type": "code",
   "execution_count": null,
   "metadata": {},
   "outputs": [],
   "source": [
    "# The dataset don't have more null values\n",
    "df.isna().sum()"
   ]
  },
  {
   "cell_type": "markdown",
   "metadata": {},
   "source": [
    "# Vizualization of data"
   ]
  },
  {
   "cell_type": "code",
   "execution_count": null,
   "metadata": {},
   "outputs": [],
   "source": [
    "# Creat a subplot for type mosaic\n",
    "fig, ax = plt.subplot_mosaic([ ['A', 'B'],\n",
    "                               ['C', 'D'],\n",
    "                               ['E', 'F'],\n",
    "                               ['G', 'H'],\n",
    "                               ['I', 'I'],\n",
    "                               ['J', 'J'],\n",
    "                               ['K', 'K'],\n",
    "                               ['L', 'L'],\n",
    "                               ['M', 'M']\n",
    "                              ],\n",
    "                              figsize=(15, 40), constrained_layout=True)\n",
    "\n",
    "\n",
    "# Distribution of Genders and Property Area\n",
    "# Create a crosstab of Gender and Property_Area\n",
    "gender_property_area = pd.crosstab(df['Gender'], df['Property_Area'])\n",
    "\n",
    "# Create a stacked bar plot with a blue color palette\n",
    "gender_property_area.plot(kind='bar', stacked=True, color=['#0000ff', '#3399ff', '#99ccff'], ax=ax['A'])\n",
    "\n",
    "ax['A'].set_title('Distribution of Property Area within each Gender')\n",
    "ax['A'].set_xlabel('Gender')\n",
    "labels = ax['A'].get_xticklabels()\n",
    "ax['A'].set_xticklabels(labels, rotation=0)\n",
    "\n",
    "\n",
    "# Distribution of marital status\n",
    "df['Married'].value_counts().plot(kind='bar', ax=ax['B'])\n",
    "ax['B'].set_title('Distribution of Marital Status')\n",
    "ax['B'].set_xlabel('Marital Status')\n",
    "labels = ax['B'].get_xticklabels()\n",
    "ax['B'].set_xticklabels(labels, rotation=0)\n",
    "\n",
    "\n",
    "# Distribution of dependents\n",
    "df['Dependents'].value_counts().plot(kind='bar', ax=ax['C'])\n",
    "ax['C'].set_title('Distribution of Dependents')\n",
    "ax['C'].set_xlabel('Number of Dependents')\n",
    "labels = ax['C'].get_xticklabels()\n",
    "ax['C'].set_xticklabels(labels, rotation=0)\n",
    "\n",
    "\n",
    "\n",
    "# Distribution of education level\n",
    "df['Education'].value_counts().plot(kind='bar', ax=ax['D'])\n",
    "ax['D'].set_title('Distribution of Education Level')\n",
    "ax['D'].set_xlabel('Education Level')\n",
    "labels = ax['D'].get_xticklabels()\n",
    "ax['D'].set_xticklabels(labels, rotation=0)\n",
    "\n",
    "\n",
    "\n",
    "# Distribution of ApplicantIncome\n",
    "ax['E'].hist(df['ApplicantIncome'], bins=40, edgecolor='black')\n",
    "ax['E'].set_title('Distribution of Applicant Income')\n",
    "ax['E'].set_xlabel('Applicant Income')\n",
    "\n",
    "\n",
    "# Distribution of CoapplicantIncome\n",
    "ax['F'].hist(df['CoapplicantIncome'], bins=40, edgecolor='black')\n",
    "ax['F'].set_title('Distribution of Coapplicant Income')\n",
    "ax['F'].set_xlabel('Coapplicant Income')\n",
    "\n",
    "\n",
    "# Distribution of LoanAmount\n",
    "ax['G'].hist(df['LoanAmount'], bins=40, edgecolor='black')\n",
    "ax['G'].set_title('Distribution of Loan Amount')\n",
    "ax['G'].set_xlabel('Loan Amount (in thousands)')\n",
    "\n",
    "\n",
    "# Loan Status Distribution\n",
    "df['Loan_Status'].value_counts().plot(kind='pie', autopct='%1.1f%%', ax=ax['H'])\n",
    "ax['H'].set_title('Loan Status Distribution')\n",
    "ax['H'].set_ylabel('') \n",
    "\n",
    "\n",
    "# ApplicantIncome vs CoapplicantIncome\n",
    "ax['I'].scatter(df['ApplicantIncome'], df['CoapplicantIncome'])\n",
    "ax['I'].set_title('ApplicantIncome vs CoapplicantIncome')\n",
    "ax['I'].set_xlabel('Applicant Income')\n",
    "ax['I'].set_ylabel('Coapplicant Income')\n",
    "\n",
    "# Applicant Income vs Loan Amount\n",
    "sns.scatterplot(x='ApplicantIncome', y='LoanAmount', data=df, ax=ax['J'])\n",
    "ax['J'].set_title('Applicant Income vs Loan Amount')\n",
    "ax['J'].set_xlabel('Applicant Income')\n",
    "ax['J'].set_ylabel('Loan Amount (in thousands)')\n",
    "\n",
    "# Loan Amount vs Loan Term\n",
    "sns.scatterplot(x='LoanAmount', y='Loan_Amount_Term', data=df, ax=ax['K'])\n",
    "ax['K'].set_title('Loan Amount vs Loan Term')\n",
    "ax['K'].set_xlabel('Loan Amount (in thousands)')\n",
    "ax['K'].set_ylabel('Loan Term (in months)')\n",
    "\n",
    "# Convert Loan_Status to numerical values for plotting\n",
    "df['Loan_Status_Num'] = df['Loan_Status'].map({'Y': 1, 'N': 0})\n",
    "\n",
    "# Applicant Income vs Loan Amount with Loan Status\n",
    "sns.scatterplot(x='ApplicantIncome', y='LoanAmount', hue='Loan_Status_Num', data=df, ax=ax['L'])\n",
    "ax['L'].set_title('Applicant Income vs Loan Amount with Loan Status')\n",
    "ax['L'].set_xlabel('Applicant Income')\n",
    "ax['L'].set_ylabel('Loan Amount (in thousands)')\n",
    "\n",
    "# Loan Amount vs Loan Term with Credit History\n",
    "sns.scatterplot(x='LoanAmount', y='Loan_Amount_Term', hue='Credit_History', data=df, ax=ax['M'])\n",
    "ax['M'].set_title('Loan Amount vs Loan Term with Credit History')\n",
    "ax['M'].set_xlabel('Loan Amount (in thousands)')\n",
    "ax['M'].set_ylabel('Loan Term (in months)')\n",
    "\n",
    "plt.show()\n"
   ]
  },
  {
   "cell_type": "markdown",
   "metadata": {},
   "source": [
    "**Gender and Residence:** The dataset predominantly comprises male applicants who are evenly distributed across urban, semi-urban, and rural regions. This suggests that men are actively seeking property loans across all types of geographical areas.\n",
    "\n",
    "**Marital Status:** A significant proportion of the applicants are married couples, indicating that property loans are commonly pursued by families rather than individuals.\n",
    "\n",
    "**Dependents:** Interestingly, a large majority of applicants have no dependents, which could potentially indicate a higher disposable income and thus a greater capacity to repay loans.\n",
    "\n",
    "**Education:** The data reveals that most applicants are graduates, suggesting a higher earning potential and a likely positive impact on loan repayment capabilities.\n",
    "\n",
    "**Applicant Income:** The majority of applicants have an income ranging between 2000 and 4000, which is an important factor considered by banks when approving loans.\n",
    "\n",
    "**Co-applicant Income:** It’s noteworthy that the income of most co-applicants is zero, implying that the primary applicant is the main breadwinner.\n",
    "\n",
    "**Loan Amount:** The loan amounts mostly range between 100k and 130k, which seems to be the preferred range for both the applicants and the bank.\n",
    "\n",
    "**Loan Approval:** Impressively, more than 70% of applicants are granted loans, indicating a high acceptance rate.\n",
    "\n",
    "**Income and Loan Amount Relationship:** There exists a relationship between the income of the applicant and the loan amount, suggesting that the bank considers the applicant’s income when determining the loan amount.\n",
    "\n",
    "**Income, Loan Amount, and Term:** Applicants with an income between 2000 and 4000 typically opt for loans of 100k to 130k with a term of 360 months, indicating a common trend among this income group."
   ]
  },
  {
   "cell_type": "markdown",
   "metadata": {},
   "source": [
    "# Converts the categorical data into numerica and Split data into Train and Test"
   ]
  },
  {
   "cell_type": "code",
   "execution_count": null,
   "metadata": {},
   "outputs": [],
   "source": [
    "# crat a datafrma copy\n",
    "df_encoded = df.copy()\n",
    "\n",
    "# Inicialize the LabelEncoder\n",
    "le = LabelEncoder()\n",
    "\n",
    "# Converts the categorical data into numerica with LabelEncoder\n",
    "for column in df_encoded.columns:\n",
    "    if df_encoded[column].dtype == 'object':\n",
    "        df_encoded[column] = le.fit_transform(df_encoded[column])\n",
    "\n",
    "# Dependent variable\n",
    "y = df_encoded['Loan_Status']\n",
    "\n",
    "# Independent variable\n",
    "X = df_encoded.drop(['Loan_ID','Loan_Status', 'Loan_Status_Num'], axis=1)\n",
    "\n",
    "\n",
    "# Split data into Train and Test\n",
    "X_train, X_test, y_train, y_test = train_test_split(X, y, test_size=0.2, random_state=42)\n"
   ]
  },
  {
   "cell_type": "markdown",
   "metadata": {},
   "source": [
    "# Model ML and Evaluate models"
   ]
  },
  {
   "cell_type": "code",
   "execution_count": null,
   "metadata": {},
   "outputs": [],
   "source": [
    "# Initialize the Logistic Regression model\n",
    "model = LogisticRegression()\n",
    "\n",
    "# Train the model\n",
    "model.fit(X_train, y_train)\n",
    "\n",
    "# Make predictions\n",
    "y_pred = model.predict(X_test)\n",
    "\n",
    "# Calculate metrics\n",
    "accuracy = accuracy_score(y_test, y_pred)\n",
    "recall = recall_score(y_test, y_pred)\n",
    "precision = precision_score(y_test, y_pred)\n",
    "f1 = f1_score(y_test, y_pred)\n",
    "mse = mean_squared_error(y_test, y_pred)\n",
    "\n",
    "# Calculate specificity\n",
    "tn, fp, fn, tp = confusion_matrix(y_test, y_pred).ravel()\n",
    "specificity = tn / (tn+fp)\n",
    "\n",
    "# Calculate error rate\n",
    "error_rate = 1 - accuracy\n",
    "\n",
    "# Print the metrics\n",
    "print(f\"Accuracy: {accuracy}\")\n",
    "print(f\"Recall: {recall}\")\n",
    "print(f\"Precision: {precision}\")\n",
    "print(f\"F1-Score: {f1}\")\n",
    "print(f\"Mean Squared Error: {mse}\")\n",
    "print(f\"Specificity: {specificity}\")\n",
    "print(f\"Error Rate: {error_rate}\")\n"
   ]
  },
  {
   "cell_type": "markdown",
   "metadata": {},
   "source": [
    "**Accuracy:** 81.82% - The model correctly classified 81.82% of the samples.\n",
    "\n",
    "**Recall:** 100% - The model identified all positive samples correctly (without false negatives).\n",
    "\n",
    "**Accuracy:** 80% - The model classified 80% of the samples as positive and all of them were correct (without false positives).\n",
    "\n",
    "**F1-Score:** 88.89% - The model found a good balance between accuracy and recall.\n",
    "\n",
    "**Mean Square Error (MSE):** 0.1818 - The model presented a relatively low mean error in the prediction of the values.\n",
    "\n",
    "**Specificity:** 33.33% - The model correctly identified 33.33% of the negative samples (without false positives).\n",
    "\n",
    "**Error Rate:** 18.18% - The model misclassified 18.18% of the samples.\n",
    "\n",
    "**Conclusion**\n",
    "\n",
    "The model presented a good overall performance, with high accuracy, recall and F1-Score.\n",
    "The MSE indicates that the model fit the data well, with a relatively low average error.\n",
    "Specificity, however, was low, meaning that the model may have classified some negative samples as positive.\n",
    "The error rate of 18.18% indicates that the model can still be improved."
   ]
  },
  {
   "cell_type": "markdown",
   "metadata": {},
   "source": [
    "# ROC Curve"
   ]
  },
  {
   "cell_type": "code",
   "execution_count": null,
   "metadata": {},
   "outputs": [],
   "source": [
    "# Predict the probabilities of the positive class\n",
    "y_pred_proba = model.predict_proba(X_test)[:, 1]\n",
    "\n",
    "# Calculate the ROC curve\n",
    "fpr, tpr, thresholds = roc_curve(y_test, y_pred_proba)\n",
    "\n",
    "# Calculate the AUC\n",
    "auc = roc_auc_score(y_test, y_pred_proba)\n",
    "\n",
    "# Create a plot\n",
    "plt.figure(figsize=(10, 8))\n",
    "plt.plot(fpr, tpr, label=f\"AUC = {auc:.2f}\")\n",
    "plt.plot([0, 1], [0, 1], linestyle='--')\n",
    "plt.xlim([0.0, 1.0])\n",
    "plt.ylim([0.0, 1.05])\n",
    "plt.xlabel('False Positive Rate')\n",
    "plt.ylabel('True Positive Rate')\n",
    "plt.title('Receiver Operating Characteristic Curve')\n",
    "plt.legend(loc=\"lower right\")\n",
    "plt.show()"
   ]
  },
  {
   "cell_type": "markdown",
   "metadata": {},
   "source": [
    "# Testing trained model"
   ]
  },
  {
   "cell_type": "code",
   "execution_count": null,
   "metadata": {},
   "outputs": [],
   "source": [
    "trained_model = model.fit(X_train, y_train)\n",
    "trained_model"
   ]
  },
  {
   "cell_type": "code",
   "execution_count": null,
   "metadata": {},
   "outputs": [],
   "source": [
    "X_new = X.sample() # function sample, draw a value of the independent variable\n",
    "predict = (trained_model.predict_proba(X_new)) * 100 # predict in percent\n",
    "\n",
    "print(f\"Yes: {predict[0][1]:.2f}% - No: {predict[0][0]:.2f}%\")"
   ]
  },
  {
   "cell_type": "markdown",
   "metadata": {},
   "source": [
    "# Loan Propensity Prediction System - Find Your Chances of Approval"
   ]
  },
  {
   "cell_type": "code",
   "execution_count": null,
   "metadata": {},
   "outputs": [],
   "source": [
    "# Mappings\n",
    "map_gender = {'Female': 0, 'Male': 1}  # Mapping for Gender\n",
    "map_married = {'No': 0, 'Yes': 1}  # Mapping for Married\n",
    "map_dependents = {'0': 0, '1': 1, '2': 2, '3+': 3}  # Mapping for Dependents\n",
    "map_education = {'Graduate': 0, 'Not Graduate': 1}  # Mapping for Education\n",
    "map_self_employed = {'No': 0, 'Yes': 1}  # Mapping for Self_Employed\n",
    "map_credit_history = {'No': 0, 'Yes': 1}  # Mapping for Credit_History\n",
    "map_property_area = {'Rural': 0, 'Semiurban': 1,'Urban':2}  # Mapping for Property_Area\n",
    "\n",
    "def predict(*args):\n",
    "  # Convert string inputs to numbers using the mappings\n",
    "  args = list(args)\n",
    "  args[0] = map_gender[args[0]]  # Gender\n",
    "  args[1] = map_married[args[1]]  # Married\n",
    "  args[2] = map_dependents[args[2]]  # Dependents\n",
    "  args[3] = map_education[args[3]]  # Education\n",
    "  args[4] = map_self_employed[args[4]]  # Self_Employed\n",
    "  args[9] = map_credit_history[args[9]]  # Credit_History\n",
    "  args[10] = map_property_area[args[10]]  # Property_Area\n",
    "\n",
    "  X_new = np.array([args]).reshape(1, -1)\n",
    "  predict = (trained_model.predict_proba(X_new))\n",
    "\n",
    "  return {\"Yes\":predict[0][1], \"No\":predict[0][0]}\n",
    "\n",
    "with gr.Blocks() as demo:\n",
    "  # Panel title\n",
    "  gr.Markdown(\"\"\" # Loan Propensity \"\"\")\n",
    "\n",
    "  with gr.Row():\n",
    "    with gr.Column():\n",
    "      gr.Markdown(\"\"\" # Client Attributes \"\"\")\n",
    "      Gender = gr.Radio(['Male', 'Female'], label = 'Select your gender')\n",
    "      Married =  gr.Radio(['No', 'Yes'], label = 'Applicant are married?')\n",
    "      Dependents = gr.Radio(['0', '1', '2', '3+'], label = 'Number of persons depending on the client')\n",
    "      Education = gr.Radio(['Graduate', 'Not Graduate'], label = 'Applicant Education')\n",
    "      Self_Employed = gr.Radio(['No', 'Yes'], label = 'Self-employed?')\n",
    "      ApplicantIncome = gr.Slider(label=\"Applicant Income\", minimum=0, maximum=9703, step=1, randomize=True)\n",
    "      CoapplicantIncome = gr.Slider(label=\"Coapplicant Income\", minimum=0.00, maximum=33837, step=1, randomize=True)\n",
    "      LoanAmount = gr.Slider(label=\"Loan Amount\", minimum=9, maximum=150, step=1, randomize=True)\n",
    "      Loan_Amount_Term = gr.Radio([12, 36, 60, 84, 120, 180, 240, 300, 360, 480], label = 'Terms of the loan in months')\n",
    "      Credit_History = gr.Radio(['No', 'Yes'], label = 'Credit history meets guidelines?')\n",
    "      Property_Area = gr.Radio(['Rural', 'Semiurban', 'Urban'], label = 'Applicants are living either Rural, Semi-Urban or Urban?')\n",
    "\n",
    "      with gr.Row():\n",
    "        gr.Markdown(\"\"\" # Prediction Button \"\"\")\n",
    "        predict_btn = gr.Button(value=\"Predict\")\n",
    "\n",
    "    with gr.Column():\n",
    "      gr.Markdown(\"\"\" # Client's Loan Propensity \"\"\")\n",
    "      label = gr.Label()\n",
    "\n",
    "  # Predict button\n",
    "  predict_btn.click(\n",
    "      fn=predict,\n",
    "      inputs=[\n",
    "        Gender, \n",
    "        Married, \n",
    "        Dependents, \n",
    "        Education,\n",
    "        Self_Employed, \n",
    "        ApplicantIncome, \n",
    "        CoapplicantIncome, \n",
    "        LoanAmount,\n",
    "        Loan_Amount_Term, \n",
    "        Credit_History, \n",
    "        Property_Area\n",
    "      ],\n",
    "      outputs=[label]\n",
    "      )\n",
    "\n",
    "demo.launch(debug=True, share=False)"
   ]
  }
 ],
 "metadata": {
  "kernelspec": {
   "display_name": "Python 3 (ipykernel)",
   "language": "python",
   "name": "python3"
  },
  "language_info": {
   "codemirror_mode": {
    "name": "ipython",
    "version": 3
   },
   "file_extension": ".py",
   "mimetype": "text/x-python",
   "name": "python",
   "nbconvert_exporter": "python",
   "pygments_lexer": "ipython3",
   "version": "3.11.4"
  }
 },
 "nbformat": 4,
 "nbformat_minor": 2
}
